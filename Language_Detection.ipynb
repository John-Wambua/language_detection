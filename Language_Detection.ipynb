{
  "nbformat": 4,
  "nbformat_minor": 0,
  "metadata": {
    "colab": {
      "name": "Language Detection.ipynb",
      "provenance": [],
      "toc_visible": true,
      "include_colab_link": true
    },
    "kernelspec": {
      "display_name": "Python 3",
      "language": "python",
      "name": "python3"
    },
    "language_info": {
      "codemirror_mode": {
        "name": "ipython",
        "version": 3
      },
      "file_extension": ".py",
      "mimetype": "text/x-python",
      "name": "python",
      "nbconvert_exporter": "python",
      "pygments_lexer": "ipython3",
      "version": "3.8.3"
    },
    "accelerator": "GPU"
  },
  "cells": [
    {
      "cell_type": "markdown",
      "metadata": {
        "id": "view-in-github",
        "colab_type": "text"
      },
      "source": [
        "<a href=\"https://colab.research.google.com/github/John-Wambua/language_detection/blob/main/Language_Detection.ipynb\" target=\"_parent\"><img src=\"https://colab.research.google.com/assets/colab-badge.svg\" alt=\"Open In Colab\"/></a>"
      ]
    },
    {
      "cell_type": "code",
      "metadata": {
        "id": "Lbd3oEFRVWUp"
      },
      "source": [
        "import pandas as pd\n",
        "import numpy as np\n",
        "import matplotlib.pyplot as plt\n",
        "import seaborn as sns\n",
        "from keras.preprocessing.text import Tokenizer\n",
        "from keras.preprocessing.sequence import pad_sequences\n",
        "from tensorflow.keras import layers, Sequential\n",
        "import re\n",
        "import io\n",
        "from sklearn.feature_extraction.text import CountVectorizer\n",
        "from sklearn.decomposition import PCA\n",
        "from sklearn.metrics import accuracy_score, confusion_matrix, roc_auc_score\n",
        "from sklearn.metrics import classification_report\n",
        "from sklearn.model_selection import train_test_split\n",
        "from sklearn.feature_extraction.text import TfidfTransformer\n",
        "from sklearn.naive_bayes import MultinomialNB\n",
        "from sklearn.linear_model import SGDClassifier\n",
        "from keras.utils import np_utils\n",
        "from keras.models import Sequential\n",
        "from keras.layers import Dense"
      ],
      "execution_count": 121,
      "outputs": []
    },
    {
      "cell_type": "code",
      "metadata": {
        "colab": {
          "base_uri": "https://localhost:8080/"
        },
        "id": "kigPZs_OV1nm",
        "outputId": "44f77251-db4c-4b34-f109-d8165b7071ae"
      },
      "source": [
        "from google.colab import drive\n",
        "drive.mount('/content/drive')"
      ],
      "execution_count": 122,
      "outputs": [
        {
          "output_type": "stream",
          "text": [
            "Drive already mounted at /content/drive; to attempt to forcibly remount, call drive.mount(\"/content/drive\", force_remount=True).\n"
          ],
          "name": "stdout"
        }
      ]
    },
    {
      "cell_type": "markdown",
      "metadata": {
        "id": "jZxy28RuVWUu"
      },
      "source": [
        "### The Data"
      ]
    },
    {
      "cell_type": "code",
      "metadata": {
        "id": "kNiHAidSVWUv"
      },
      "source": [
        "# data = pd.read_csv(io.BytesIO(uploaded['Language Detection.csv']))\n",
        "data = pd.read_csv('../content/drive/MyDrive/Language Detection.csv')"
      ],
      "execution_count": 123,
      "outputs": []
    },
    {
      "cell_type": "code",
      "metadata": {
        "id": "A7uia77eVWUw",
        "colab": {
          "base_uri": "https://localhost:8080/",
          "height": 206
        },
        "outputId": "8dfbbace-775d-4df7-8991-c490876d1fbb"
      },
      "source": [
        "data.head()"
      ],
      "execution_count": 124,
      "outputs": [
        {
          "output_type": "execute_result",
          "data": {
            "text/html": [
              "<div>\n",
              "<style scoped>\n",
              "    .dataframe tbody tr th:only-of-type {\n",
              "        vertical-align: middle;\n",
              "    }\n",
              "\n",
              "    .dataframe tbody tr th {\n",
              "        vertical-align: top;\n",
              "    }\n",
              "\n",
              "    .dataframe thead th {\n",
              "        text-align: right;\n",
              "    }\n",
              "</style>\n",
              "<table border=\"1\" class=\"dataframe\">\n",
              "  <thead>\n",
              "    <tr style=\"text-align: right;\">\n",
              "      <th></th>\n",
              "      <th>Text</th>\n",
              "      <th>Language</th>\n",
              "    </tr>\n",
              "  </thead>\n",
              "  <tbody>\n",
              "    <tr>\n",
              "      <th>0</th>\n",
              "      <td>Nature, in the broadest sense, is the natural...</td>\n",
              "      <td>English</td>\n",
              "    </tr>\n",
              "    <tr>\n",
              "      <th>1</th>\n",
              "      <td>\"Nature\" can refer to the phenomena of the phy...</td>\n",
              "      <td>English</td>\n",
              "    </tr>\n",
              "    <tr>\n",
              "      <th>2</th>\n",
              "      <td>The study of nature is a large, if not the onl...</td>\n",
              "      <td>English</td>\n",
              "    </tr>\n",
              "    <tr>\n",
              "      <th>3</th>\n",
              "      <td>Although humans are part of nature, human acti...</td>\n",
              "      <td>English</td>\n",
              "    </tr>\n",
              "    <tr>\n",
              "      <th>4</th>\n",
              "      <td>[1] The word nature is borrowed from the Old F...</td>\n",
              "      <td>English</td>\n",
              "    </tr>\n",
              "  </tbody>\n",
              "</table>\n",
              "</div>"
            ],
            "text/plain": [
              "                                                Text Language\n",
              "0   Nature, in the broadest sense, is the natural...  English\n",
              "1  \"Nature\" can refer to the phenomena of the phy...  English\n",
              "2  The study of nature is a large, if not the onl...  English\n",
              "3  Although humans are part of nature, human acti...  English\n",
              "4  [1] The word nature is borrowed from the Old F...  English"
            ]
          },
          "metadata": {},
          "execution_count": 124
        }
      ]
    },
    {
      "cell_type": "code",
      "metadata": {
        "id": "KTTe8xgtVWUy",
        "colab": {
          "base_uri": "https://localhost:8080/"
        },
        "outputId": "dc088240-1c9f-49af-af61-5627182f4562"
      },
      "source": [
        "data['Language'].value_counts()"
      ],
      "execution_count": 125,
      "outputs": [
        {
          "output_type": "execute_result",
          "data": {
            "text/plain": [
              "English       1385\n",
              "French        1014\n",
              "Spanish        819\n",
              "Portugeese     739\n",
              "Italian        698\n",
              "Russian        692\n",
              "Sweedish       676\n",
              "Malayalam      594\n",
              "Dutch          546\n",
              "Arabic         536\n",
              "Turkish        474\n",
              "German         470\n",
              "Tamil          469\n",
              "Danish         428\n",
              "Kannada        369\n",
              "Greek          365\n",
              "Hindi           63\n",
              "Name: Language, dtype: int64"
            ]
          },
          "metadata": {},
          "execution_count": 125
        }
      ]
    },
    {
      "cell_type": "code",
      "metadata": {
        "id": "TxUoT0BgLylQ"
      },
      "source": [
        "languages = data['Language'].unique()"
      ],
      "execution_count": 126,
      "outputs": []
    },
    {
      "cell_type": "code",
      "metadata": {
        "colab": {
          "base_uri": "https://localhost:8080/"
        },
        "id": "nhs0LJ70L5bu",
        "outputId": "d8422964-7049-42f5-bdca-57563c2339e7"
      },
      "source": [
        "languages"
      ],
      "execution_count": 127,
      "outputs": [
        {
          "output_type": "execute_result",
          "data": {
            "text/plain": [
              "array(['English', 'Malayalam', 'Hindi', 'Tamil', 'Portugeese', 'French',\n",
              "       'Dutch', 'Spanish', 'Greek', 'Russian', 'Danish', 'Italian',\n",
              "       'Turkish', 'Sweedish', 'Arabic', 'German', 'Kannada'], dtype=object)"
            ]
          },
          "metadata": {},
          "execution_count": 127
        }
      ]
    },
    {
      "cell_type": "markdown",
      "metadata": {
        "id": "wy50RNSVVWUy"
      },
      "source": [
        "**Separate the Dependent from Independent Variable**"
      ]
    },
    {
      "cell_type": "code",
      "metadata": {
        "id": "h74NL_3JVWUy"
      },
      "source": [
        "X = data[\"Text\"]\n",
        "y = data[\"Language\"]"
      ],
      "execution_count": 128,
      "outputs": []
    },
    {
      "cell_type": "markdown",
      "metadata": {
        "id": "8YSGutZKVWUz"
      },
      "source": [
        "## Text Preprocessing"
      ]
    },
    {
      "cell_type": "markdown",
      "metadata": {
        "id": "-CnlD6adVWUz"
      },
      "source": [
        "**Encode the Language categories**"
      ]
    },
    {
      "cell_type": "code",
      "metadata": {
        "id": "px6qVAq8VWU0"
      },
      "source": [
        "y = pd.get_dummies(y).values"
      ],
      "execution_count": 129,
      "outputs": []
    },
    {
      "cell_type": "code",
      "metadata": {
        "id": "u7T9vt_QVWU0",
        "colab": {
          "base_uri": "https://localhost:8080/"
        },
        "outputId": "c84e248e-14b0-4622-9d73-6725aef2c3af"
      },
      "source": [
        "y"
      ],
      "execution_count": 130,
      "outputs": [
        {
          "output_type": "execute_result",
          "data": {
            "text/plain": [
              "array([[0, 0, 0, ..., 0, 0, 0],\n",
              "       [0, 0, 0, ..., 0, 0, 0],\n",
              "       [0, 0, 0, ..., 0, 0, 0],\n",
              "       ...,\n",
              "       [0, 0, 0, ..., 0, 0, 0],\n",
              "       [0, 0, 0, ..., 0, 0, 0],\n",
              "       [0, 0, 0, ..., 0, 0, 0]], dtype=uint8)"
            ]
          },
          "metadata": {},
          "execution_count": 130
        }
      ]
    },
    {
      "cell_type": "code",
      "metadata": {
        "id": "RneWPcYfVWU1"
      },
      "source": [
        "# from sklearn.preprocessing import LabelEncoder\n",
        "# le = LabelEncoder()\n",
        "# y = le.fit_transform(y)"
      ],
      "execution_count": 131,
      "outputs": []
    },
    {
      "cell_type": "code",
      "metadata": {
        "id": "ZP2T6OhSVWU3",
        "colab": {
          "base_uri": "https://localhost:8080/"
        },
        "outputId": "b3254ee3-31e9-44cc-8073-71cb5f7b63fc"
      },
      "source": [
        "X.values"
      ],
      "execution_count": 132,
      "outputs": [
        {
          "output_type": "execute_result",
          "data": {
            "text/plain": [
              "array([' Nature, in the broadest sense, is the natural, physical, material world or universe.',\n",
              "       '\"Nature\" can refer to the phenomena of the physical world, and also to life in general.',\n",
              "       'The study of nature is a large, if not the only, part of science.',\n",
              "       ...,\n",
              "       \"ಹೇಗೆ ' ನಾರ್ಸಿಸಿಸಮ್ ಈಗ ಮರಿಯನ್ ಅವರಿಗೆ ಸಂಭವಿಸಿದ ಎಲ್ಲವನ್ನೂ ಹೇಳಿದೆ ಮತ್ತು ಅವಳು ಆ ಸಮಯದಿಂದ ತುಂಬಾ ಬದಲಾಗಿದ್ದಾಳೆ.\",\n",
              "       'ಅವಳು ಈಗ ಹೆಚ್ಚು ಚಿನ್ನದ ಬ್ರೆಡ್ ಬಯಸುವುದಿಲ್ಲ ಎಂದು ನಾನು ess ಹಿಸಿದ್ದೇನೆ.',\n",
              "       'ಟೆರ್ರಿ ನೀವು ನಿಜವಾಗಿಯೂ ಆ ದೇವದೂತನಂತೆ ಸ್ವಲ್ಪ ಕಾಣುತ್ತಿದ್ದೀರಿ ಆದರೆ ನಾನು ಏನು ನೋಡುತ್ತಿದ್ದೇನೆ ನೀವು ಹೇಗೆ ಅವನಾಗಬಹುದು ನೀವು ಇಬ್ಬರು ತುಂಬಾ ಒಳ್ಳೆಯವರು'],\n",
              "      dtype=object)"
            ]
          },
          "metadata": {},
          "execution_count": 132
        }
      ]
    },
    {
      "cell_type": "markdown",
      "metadata": {
        "id": "4zuhLOFTVWU3"
      },
      "source": [
        "**Standardization and Text Cleaning**"
      ]
    },
    {
      "cell_type": "code",
      "metadata": {
        "id": "_hao5W2-VWU3"
      },
      "source": [
        "corpus_list=[]\n",
        "for text in X:\n",
        "    text=str(text)\n",
        "    text = text.lower()\n",
        "    text=text.replace('{html}',\"\") \n",
        "    cleanr = re.compile('<.*?>')\n",
        "    cleantext = re.sub(cleanr, '', text)\n",
        "    rem_url=re.sub(r'http\\S+', '',cleantext)\n",
        "    rem_num = re.sub('[0-9]+', '', rem_url)\n",
        "    corpus_list.append(rem_num)"
      ],
      "execution_count": 133,
      "outputs": []
    },
    {
      "cell_type": "code",
      "metadata": {
        "id": "k-AXPX9wVWU4",
        "colab": {
          "base_uri": "https://localhost:8080/"
        },
        "outputId": "dce6e28c-46e9-49cd-fbc9-adbad8207c98"
      },
      "source": [
        "len(corpus_list)"
      ],
      "execution_count": 134,
      "outputs": [
        {
          "output_type": "execute_result",
          "data": {
            "text/plain": [
              "10337"
            ]
          },
          "metadata": {},
          "execution_count": 134
        }
      ]
    },
    {
      "cell_type": "code",
      "metadata": {
        "id": "jxK79GppVWU4"
      },
      "source": [
        "tokenizer = Tokenizer()"
      ],
      "execution_count": 135,
      "outputs": []
    },
    {
      "cell_type": "code",
      "metadata": {
        "id": "0T9bPYcLPzkp"
      },
      "source": [
        "tokenizer.fit_on_texts(list(X.values))"
      ],
      "execution_count": 136,
      "outputs": []
    },
    {
      "cell_type": "code",
      "metadata": {
        "id": "rxi7egSVQIxp"
      },
      "source": [
        "X = tokenizer.texts_to_sequences(X.values)"
      ],
      "execution_count": 137,
      "outputs": []
    },
    {
      "cell_type": "markdown",
      "metadata": {
        "id": "Z5xl0vhxS3es"
      },
      "source": [
        "**Find the maximum number of words in a text**"
      ]
    },
    {
      "cell_type": "code",
      "metadata": {
        "colab": {
          "base_uri": "https://localhost:8080/"
        },
        "id": "Nt85y6pWS2c7",
        "outputId": "cf9f1f7e-d4f1-4461-8fe9-e34eff12994f"
      },
      "source": [
        "max_word_count = 0\n",
        "word_count = []\n",
        "#\n",
        "for encoded_text in X:\n",
        "    word_count.append(len(encoded_text))\n",
        "    if len(encoded_text) > max_word_count:\n",
        "        max_word_count = len(encoded_text)\n",
        "print(\"Maximum number of word in one text: \" + str(max_word_count) + \" words\")"
      ],
      "execution_count": 138,
      "outputs": [
        {
          "output_type": "stream",
          "text": [
            "Maximum number of word in one text: 3770 words\n"
          ],
          "name": "stdout"
        }
      ]
    },
    {
      "cell_type": "code",
      "metadata": {
        "id": "yGPBPn0gUZt-"
      },
      "source": [
        "X = pad_sequences(X, maxlen=max_word_count, padding='post')"
      ],
      "execution_count": 139,
      "outputs": []
    },
    {
      "cell_type": "markdown",
      "metadata": {
        "id": "LWz_Q3-dWXIZ"
      },
      "source": [
        "**Get Vocab Size**"
      ]
    },
    {
      "cell_type": "code",
      "metadata": {
        "id": "lKGH4dt_WHLe"
      },
      "source": [
        "vocab_size = len(tokenizer.word_index)+1"
      ],
      "execution_count": 140,
      "outputs": []
    },
    {
      "cell_type": "code",
      "metadata": {
        "colab": {
          "base_uri": "https://localhost:8080/"
        },
        "id": "XTI7m2yuXnEo",
        "outputId": "24dd4094-de03-497a-ebba-3c36352fc337"
      },
      "source": [
        "vocab_size"
      ],
      "execution_count": 141,
      "outputs": [
        {
          "output_type": "execute_result",
          "data": {
            "text/plain": [
              "48707"
            ]
          },
          "metadata": {},
          "execution_count": 141
        }
      ]
    },
    {
      "cell_type": "markdown",
      "metadata": {
        "id": "yunLq1_vVWU5"
      },
      "source": [
        "## Train Test Split"
      ]
    },
    {
      "cell_type": "code",
      "metadata": {
        "id": "SyHUCk3ZVWU6"
      },
      "source": [
        "X_train, X_test, y_train, y_test = train_test_split(X, y, test_size = 0.30, random_state=101)"
      ],
      "execution_count": 142,
      "outputs": []
    },
    {
      "cell_type": "markdown",
      "metadata": {
        "id": "O5faMHHJVWU6"
      },
      "source": [
        "## Running ML Algorithms"
      ]
    },
    {
      "cell_type": "markdown",
      "metadata": {
        "id": "b9PavF2oVWU_"
      },
      "source": [
        "## Deep Model"
      ]
    },
    {
      "cell_type": "markdown",
      "metadata": {
        "id": "Fr6ByJcjVWU_"
      },
      "source": [
        "**Create the Model**"
      ]
    },
    {
      "cell_type": "code",
      "metadata": {
        "colab": {
          "base_uri": "https://localhost:8080/"
        },
        "id": "0Bo-ECkHef2m",
        "outputId": "dbe3d21a-996a-4db1-9828-2c8a922ee0ec"
      },
      "source": [
        "y_train.shape"
      ],
      "execution_count": 143,
      "outputs": [
        {
          "output_type": "execute_result",
          "data": {
            "text/plain": [
              "(7235, 17)"
            ]
          },
          "metadata": {},
          "execution_count": 143
        }
      ]
    },
    {
      "cell_type": "code",
      "metadata": {
        "colab": {
          "base_uri": "https://localhost:8080/"
        },
        "id": "9K9aLTYneZPd",
        "outputId": "89e41c1a-7a25-46b3-f5d2-8abf905107ce"
      },
      "source": [
        "X_train.shape"
      ],
      "execution_count": 144,
      "outputs": [
        {
          "output_type": "execute_result",
          "data": {
            "text/plain": [
              "(7235, 3770)"
            ]
          },
          "metadata": {},
          "execution_count": 144
        }
      ]
    },
    {
      "cell_type": "code",
      "metadata": {
        "colab": {
          "base_uri": "https://localhost:8080/"
        },
        "id": "waIyc5zkVWU_",
        "outputId": "39c4e034-3883-4675-ea18-4e97051929b1"
      },
      "source": [
        "model = Sequential()\n",
        "model.add(layers.Embedding(vocab_size, output_dim=32, input_length=max_word_count, mask_zero=True))\n",
        "model.add(layers.LSTM(100))\n",
        "model.add(layers.Dense(64, activation=\"relu\"))\n",
        "model.add(layers.Dense(32, activation=\"relu\"))\n",
        "model.add(layers.Dense(16, activation=\"relu\"))\n",
        "model.add(layers.Dense(17, activation='softmax'))\n",
        "model.compile(loss='categorical_crossentropy', optimizer='adam', metrics=['accuracy'])\n",
        "print(model.summary())"
      ],
      "execution_count": 145,
      "outputs": [
        {
          "output_type": "stream",
          "text": [
            "Model: \"sequential_2\"\n",
            "_________________________________________________________________\n",
            "Layer (type)                 Output Shape              Param #   \n",
            "=================================================================\n",
            "embedding_2 (Embedding)      (None, 3770, 32)          1558624   \n",
            "_________________________________________________________________\n",
            "lstm_2 (LSTM)                (None, 100)               53200     \n",
            "_________________________________________________________________\n",
            "dense_8 (Dense)              (None, 64)                6464      \n",
            "_________________________________________________________________\n",
            "dense_9 (Dense)              (None, 32)                2080      \n",
            "_________________________________________________________________\n",
            "dense_10 (Dense)             (None, 16)                528       \n",
            "_________________________________________________________________\n",
            "dense_11 (Dense)             (None, 17)                289       \n",
            "=================================================================\n",
            "Total params: 1,621,185\n",
            "Trainable params: 1,621,185\n",
            "Non-trainable params: 0\n",
            "_________________________________________________________________\n",
            "None\n"
          ],
          "name": "stdout"
        }
      ]
    },
    {
      "cell_type": "markdown",
      "metadata": {
        "id": "rn-CgVBTfCZV"
      },
      "source": [
        "**Train Model**"
      ]
    },
    {
      "cell_type": "code",
      "metadata": {
        "colab": {
          "base_uri": "https://localhost:8080/"
        },
        "id": "zkLcxrXDe7jK",
        "outputId": "7f9f5188-abb6-41e3-9b0f-5efb4d7fe4b7"
      },
      "source": [
        "model.fit(\n",
        "    X_train, y_train, \n",
        "    validation_data=(X_test, y_test),\n",
        "    epochs=10, batch_size=15\n",
        "    )"
      ],
      "execution_count": 147,
      "outputs": [
        {
          "output_type": "stream",
          "text": [
            "Epoch 1/10\n",
            "483/483 [==============================] - 21s 44ms/step - loss: 1.1468 - accuracy: 0.5755 - val_loss: 0.8574 - val_accuracy: 0.7176\n",
            "Epoch 2/10\n",
            "483/483 [==============================] - 18s 37ms/step - loss: 0.5616 - accuracy: 0.8025 - val_loss: 0.4451 - val_accuracy: 0.8643\n",
            "Epoch 3/10\n",
            "483/483 [==============================] - 15s 31ms/step - loss: 0.2159 - accuracy: 0.9330 - val_loss: 0.4372 - val_accuracy: 0.8743\n",
            "Epoch 4/10\n",
            "483/483 [==============================] - 17s 35ms/step - loss: 0.0860 - accuracy: 0.9790 - val_loss: 0.4268 - val_accuracy: 0.9010\n",
            "Epoch 5/10\n",
            "483/483 [==============================] - 18s 37ms/step - loss: 0.0382 - accuracy: 0.9925 - val_loss: 0.3346 - val_accuracy: 0.9268\n",
            "Epoch 6/10\n",
            "483/483 [==============================] - 17s 36ms/step - loss: 0.0209 - accuracy: 0.9954 - val_loss: 0.4341 - val_accuracy: 0.9062\n",
            "Epoch 7/10\n",
            "483/483 [==============================] - 15s 31ms/step - loss: 0.0138 - accuracy: 0.9975 - val_loss: 0.3477 - val_accuracy: 0.9281\n",
            "Epoch 8/10\n",
            "483/483 [==============================] - 17s 35ms/step - loss: 0.0140 - accuracy: 0.9965 - val_loss: 0.4098 - val_accuracy: 0.9101\n",
            "Epoch 9/10\n",
            "483/483 [==============================] - 15s 31ms/step - loss: 0.0428 - accuracy: 0.9899 - val_loss: 0.4170 - val_accuracy: 0.9152\n",
            "Epoch 10/10\n",
            "483/483 [==============================] - 15s 31ms/step - loss: 0.0210 - accuracy: 0.9956 - val_loss: 0.4844 - val_accuracy: 0.8968\n"
          ],
          "name": "stdout"
        },
        {
          "output_type": "execute_result",
          "data": {
            "text/plain": [
              "<keras.callbacks.History at 0x7eff60fffa50>"
            ]
          },
          "metadata": {},
          "execution_count": 147
        }
      ]
    },
    {
      "cell_type": "code",
      "metadata": {
        "colab": {
          "base_uri": "https://localhost:8080/"
        },
        "id": "iTJipjCSJB7b",
        "outputId": "ebdc596e-c0b4-4ac3-abb5-6cbdf261fdaa"
      },
      "source": [
        "_,val_acc=model.evaluate(X_test,y_test,batch_size=128)\n",
        "print(val_acc)"
      ],
      "execution_count": 148,
      "outputs": [
        {
          "output_type": "stream",
          "text": [
            "25/25 [==============================] - 2s 50ms/step - loss: 0.4844 - accuracy: 0.8968\n",
            "0.8968407511711121\n"
          ],
          "name": "stdout"
        }
      ]
    },
    {
      "cell_type": "code",
      "metadata": {
        "id": "OrMdV3lINM_d"
      },
      "source": [
        "predicted = model.predict(X_test)"
      ],
      "execution_count": 149,
      "outputs": []
    },
    {
      "cell_type": "code",
      "metadata": {
        "id": "Sffc9DOINcD5"
      },
      "source": [
        "y_pred = predicted.argmax(axis=-1)"
      ],
      "execution_count": 150,
      "outputs": []
    },
    {
      "cell_type": "code",
      "metadata": {
        "colab": {
          "base_uri": "https://localhost:8080/"
        },
        "id": "vxWYukcPPH3Q",
        "outputId": "b2a11dbf-c209-4e43-8ef9-7c67a8bef52e"
      },
      "source": [
        "y_test.argmax(axis=-1) "
      ],
      "execution_count": 151,
      "outputs": [
        {
          "output_type": "execute_result",
          "data": {
            "text/plain": [
              "array([10,  5,  3, ..., 11, 13, 14])"
            ]
          },
          "metadata": {},
          "execution_count": 151
        }
      ]
    },
    {
      "cell_type": "code",
      "metadata": {
        "id": "PZXW4qRHP7my"
      },
      "source": [
        "acc_score = accuracy_score(y_test.argmax(axis=-1), y_pred)\n",
        "auc_score = roc_auc_score(y_test.argmax(axis=-1), predicted, multi_class=\"ovr\")"
      ],
      "execution_count": 152,
      "outputs": []
    },
    {
      "cell_type": "markdown",
      "metadata": {
        "id": "3mJo2QPrM28J"
      },
      "source": [
        "**Classification Report**"
      ]
    },
    {
      "cell_type": "code",
      "metadata": {
        "colab": {
          "base_uri": "https://localhost:8080/",
          "height": 542
        },
        "id": "AN12Pm59MrfM",
        "outputId": "32e6ce4e-96bd-4b6a-aa14-7adc6f99c63a"
      },
      "source": [
        "cm = confusion_matrix(y_test.argmax(axis=-1) , y_pred)\n",
        "fig, ax = plt.subplots()\n",
        "fig.set_size_inches(12, 8)\n",
        "sns.heatmap(cm, annot=True, fmt='d', ax=ax, cmap=plt.cm.Blues, cbar=False)\n",
        "ax.set(yticklabels=list(languages), title=\"Confusion matrix\")\n",
        "ax.tick_params(axis='x', labelsize=16)\n",
        "ax.tick_params(axis='y', labelsize=16)\n",
        "ax.set_ylabel(\"True\", color=\"royalblue\", fontsize=35, fontweight=700)\n",
        "ax.set_xlabel(\"Prediction\", color=\"royalblue\", fontsize=35, fontweight=700)\n",
        "plt.yticks(rotation=0);"
      ],
      "execution_count": 153,
      "outputs": [
        {
          "output_type": "display_data",
          "data": {
            "image/png": "[encoded data removed]",
            "text/plain": [
              "<Figure size 864x576 with 1 Axes>"
            ]
          },
          "metadata": {
            "needs_background": "light"
          }
        }
      ]
    },
    {
      "cell_type": "code",
      "metadata": {
        "colab": {
          "base_uri": "https://localhost:8080/"
        },
        "id": "sQStm3e1Tbr_",
        "outputId": "c6740ae0-6101-4012-9689-9d83443aef6e"
      },
      "source": [
        "#sample_comment=['I do not realy hate this movie']\n",
        "sample_text=[\"L'apprendimento automatico è una branca dell'intelligenza artificiale (AI) e dell'informatica che si concentra sull'uso di dati e algoritmi per imitare il modo in cui gli esseri umani apprendono, migliorandone gradualmente la precisione.\"]\n",
        "sample_token=tokenizer.texts_to_sequences(sample_text)\n",
        "sample_token_pad=pad_sequences(sample_token,maxlen=100)\n",
        "prediction=model.predict(sample_token_pad)\n",
        "prediction"
      ],
      "execution_count": 154,
      "outputs": [
        {
          "output_type": "stream",
          "text": [
            "WARNING:tensorflow:Model was constructed with shape (None, 3770) for input KerasTensor(type_spec=TensorSpec(shape=(None, 3770), dtype=tf.float32, name='embedding_2_input'), name='embedding_2_input', description=\"created by layer 'embedding_2_input'\"), but it was called on an input with incompatible shape (None, 100).\n"
          ],
          "name": "stdout"
        },
        {
          "output_type": "execute_result",
          "data": {
            "text/plain": [
              "array([[2.1195266e-13, 1.7416625e-07, 8.0452178e-04, 3.1782433e-06,\n",
              "        5.3694965e-03, 4.5598226e-12, 6.6889452e-13, 6.5160384e-05,\n",
              "        9.9367213e-01, 2.5560024e-10, 4.4489790e-09, 8.1997139e-05,\n",
              "        7.1308036e-11, 3.9377165e-12, 8.5841259e-07, 1.2477025e-07,\n",
              "        2.3614127e-06]], dtype=float32)"
            ]
          },
          "metadata": {},
          "execution_count": 154
        }
      ]
    },
    {
      "cell_type": "code",
      "metadata": {
        "colab": {
          "base_uri": "https://localhost:8080/",
          "height": 35
        },
        "id": "iMc8qMLdT0da",
        "outputId": "8169072c-3ad0-4e6b-e331-3470396e07b8"
      },
      "source": [
        "languages[np.argmax(prediction)]"
      ],
      "execution_count": 155,
      "outputs": [
        {
          "output_type": "execute_result",
          "data": {
            "application/vnd.google.colaboratory.intrinsic+json": {
              "type": "string"
            },
            "text/plain": [
              "'Greek'"
            ]
          },
          "metadata": {},
          "execution_count": 155
        }
      ]
    }
  ]
}